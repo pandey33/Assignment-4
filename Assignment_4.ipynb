{
 "cells": [
  {
   "cell_type": "code",
   "execution_count": 1,
   "metadata": {},
   "outputs": [
    {
     "name": "stdout",
     "output_type": "stream",
     "text": [
      "Enter first side length of triangle: 2\n",
      "Enter second side length of triangle: 3\n",
      "Enter thrid side length of triangle: 4\n",
      "side 1: 2.000000 \n",
      "side 2: 3.000000 \n",
      "side 3: 4.000000 \n",
      "\n",
      "Semi-perimeter of triangle: 4.500000 \n",
      "\n",
      "\n",
      "Enter first side length of triangle: 2\n",
      "Enter second side length of triangle: 3\n",
      "Enter thrid side length of triangle: 4\n",
      "\n",
      "\n",
      "\n",
      "Area of triangle : 2.9047375096555625\n"
     ]
    }
   ],
   "source": [
    "class Triangle():\n",
    "    def __init__(self):\n",
    "        self.a = float (input (\"Enter first side length of triangle: \"))\n",
    "        self.b = float (input (\"Enter second side length of triangle: \"))\n",
    "        self.c = float (input (\"Enter thrid side length of triangle: \"))\n",
    "        self.s = (self.a + self.b + self.c)/2\n",
    "    \n",
    "    def __str__(self):\n",
    "        return \"side 1: %f \\nside 2: %f \\nside 3: %f \\n\\nSemi-perimeter of triangle: %f \\n\\n\" %(self.a, self.b, self.c, self.s)\n",
    "\n",
    "\n",
    "triangle_object = Triangle()\n",
    "print(triangle_object)\n",
    "\n",
    "\n",
    "#subclass Area \n",
    "class Area (Triangle):\n",
    "    \n",
    "    def __init__(self, *args):\n",
    "        super().__init__(*args)\n",
    "        self.Area =  (self.s*(self.s-self.a)*(self.s-self.b)*(self.s-self.c)) ** 0.5\n",
    "    \n",
    "    \n",
    "    def __str__(self):\n",
    "        #return \"Value of s: %s \\nArea of triangle : %s\" %(s, area)\n",
    "        return \"\\n\\n\\nArea of triangle : %s\" %(self.Area)\n",
    "\n",
    "Area_object= Area()\n",
    "print (Area_object)"
   ]
  },
  {
   "cell_type": "code",
   "execution_count": 2,
   "metadata": {},
   "outputs": [
    {
     "name": "stdout",
     "output_type": "stream",
     "text": [
      "minmum length word required to filter out: 4\n"
     ]
    },
    {
     "data": {
      "text/plain": [
       "['hijklmn']"
      ]
     },
     "execution_count": 2,
     "metadata": {},
     "output_type": "execute_result"
    }
   ],
   "source": [
    "def filter_long_words(A):\n",
    "    n = int (input (\"minmum length word required to filter out: \"))\n",
    "    X = []\n",
    "    for i in A:\n",
    "        a = len(i)\n",
    "        if a > n:\n",
    "            X.append(i)\n",
    "    return X\n",
    "\n",
    "\n",
    "A = ['abc', 'defg', 'hijklmn']\n",
    "\n",
    "filter_long_words(A)\n"
   ]
  },
  {
   "cell_type": "code",
   "execution_count": 3,
   "metadata": {},
   "outputs": [
    {
     "data": {
      "text/plain": [
       "[3, 3, 5, 6]"
      ]
     },
     "execution_count": 3,
     "metadata": {},
     "output_type": "execute_result"
    }
   ],
   "source": [
    "def length_finder (x):\n",
    "    y = []\n",
    "    for i in x:\n",
    "        a = len(i)\n",
    "        y.append (a)\n",
    "    return y\n",
    "\n",
    "A = ['abc', 'def', 'ghikj', 'pratik']\n",
    "\n",
    "length_finder(A)"
   ]
  },
  {
   "cell_type": "code",
   "execution_count": 4,
   "metadata": {},
   "outputs": [
    {
     "name": "stdout",
     "output_type": "stream",
     "text": [
      " enter a single character between A to Z: e\n"
     ]
    },
    {
     "data": {
      "text/plain": [
       "True"
      ]
     },
     "execution_count": 4,
     "metadata": {},
     "output_type": "execute_result"
    }
   ],
   "source": [
    "def Vowels_Check():\n",
    "    x = input (\" enter a single character between A to Z: \")\n",
    "    x = x.upper()\n",
    "    Vowels = ['A', 'E', 'I', 'O', 'U']\n",
    "    if (x in Vowels) & (len(x)==1):\n",
    "        return True\n",
    "    else:\n",
    "        return False\n",
    "\n",
    "Vowels_Check()"
   ]
  },
  {
   "cell_type": "code",
   "execution_count": null,
   "metadata": {},
   "outputs": [],
   "source": []
  }
 ],
 "metadata": {
  "kernelspec": {
   "display_name": "Python 3",
   "language": "python",
   "name": "python3"
  },
  "language_info": {
   "codemirror_mode": {
    "name": "ipython",
    "version": 3
   },
   "file_extension": ".py",
   "mimetype": "text/x-python",
   "name": "python",
   "nbconvert_exporter": "python",
   "pygments_lexer": "ipython3",
   "version": "3.8.5"
  }
 },
 "nbformat": 4,
 "nbformat_minor": 4
}
